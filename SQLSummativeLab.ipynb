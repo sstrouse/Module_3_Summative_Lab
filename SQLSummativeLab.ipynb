{
 "cells": [
  {
   "cell_type": "markdown",
   "metadata": {},
   "source": [
    "# Introduction\n",
    "\n",
    "In part 1 of this assessment, you will complete several requested SQL queries in order to extract data, analyze, and provide insights from a single provided SQL database. You will also visualize the key results of 3 of these queries. There are also several 'Reflection' questions that ask you to write out a text based answer in the provided markdown cell. Following the guided question and answer section, in part 2 you will explore a second dataset on your own using SQL in order to conduct a preliminary analysis. You will be asked to produce a very short slide presentation highlighting the work you did for this second section.\n",
    "\n",
    "## Objectives\n",
    "You will be able to:\n",
    "- Interpret \"word problems\" and translate them into SQL queries\n",
    "- Decide and perform whichever type of JOIN is best for retrieving desired data\n",
    "- Use GROUP BY statements to apply aggregate functions like COUNT, MAX, MIN, and SUM\n",
    "- Use the HAVING clause to compare different aggregates\n",
    "- Write subqueries to decompose complex queries\n",
    "- Visualize data using matplotlib, seaborn, or pandas\n",
    "- Choose the correct chart type based on the given data\n"
   ]
  },
  {
   "cell_type": "markdown",
   "metadata": {},
   "source": [
    "## Part 1: Guided SQL Queries\n",
    "\n",
    "### Your Task: Querying a Customer Database\n",
    "\n",
    "![toy car picture](images/toycars.jpg)\n"
   ]
  },
  {
   "cell_type": "markdown",
   "metadata": {},
   "source": [
    "### Business Understanding\n",
    "Your employer sells wholesale miniature models of products such as classic cars, motorcycles, and planes. They want you to pull several reports on different segments of their past customers, in order to better understand past sales as well as determine which customers will receive promotional material. They are also interested in investigating which products have performed the best, as well as having several smaller asks.\n",
    "\n",
    "In addition to providing the requested data from the SQL database you have also been asked to create some basic visuals to display some of the more insightful information. It is up to your discretion to choose the correct plot/chart type for the data in question. **Questions that want you to visualize the results will be explicitly marked**.\n",
    "\n",
    "### Data Understanding\n",
    "You may remember this database from a previous lab. As a refresher, here's the ERD diagram for this database:\n",
    "\n",
    "![ERD picture](images/ERD.png)\n",
    "\n",
    "The queries you are asked to write will become more complex over the course of the lab.\n",
    "\n"
   ]
  },
  {
   "cell_type": "markdown",
   "metadata": {},
   "source": [
    "### Getting Started\n",
    "For this assessment you are expected to make use of both sqlite3 and the Pandas libraries in order to write, execute, and return SQL queries as a Pandas DataFrame. Assign each returned answer as its own explicit variable.\n",
    "\n",
    "For the visualization piece you are expected to utilize either Pandas, Seaborn, or Matplotlib to create your visuals. Make sure you are providing verbose labels and titles according to the data you are being asked to visualize. Do not worry too much about choosing a 'style' or 'context' instead focus on conveying the requested information correctly.\n",
    "\n",
    "### Step 1: Connect to Data\n",
    "\n",
    "In the cell below\n",
    "- Import the necessary libraries\n",
    "- Establish a connection to the database data.sqlite"
   ]
  },
  {
   "cell_type": "code",
   "execution_count": 2,
   "metadata": {},
   "outputs": [],
   "source": [
    "# Replace None with your code\n",
    "# Imports\n",
    "import sqlite3\n",
    "import pandas as pd \n",
    "\n",
    "# Create connection to database\n",
    "conn = sqlite3.connect('data.sqlite')"
   ]
  },
  {
   "cell_type": "code",
   "execution_count": 3,
   "metadata": {},
   "outputs": [
    {
     "name": "stdout",
     "output_type": "stream",
     "text": [
      "Available tables:\n",
      "           name\n",
      "0  orderdetails\n",
      "1      payments\n",
      "2       offices\n",
      "3     customers\n",
      "4        orders\n",
      "5  productlines\n",
      "6      products\n",
      "7     employees\n"
     ]
    }
   ],
   "source": [
    "table_check = pd.read_sql(\"SELECT name FROM sqlite_master WHERE type='table';\", conn)\n",
    "print(\"Available tables:\")\n",
    "print(table_check)"
   ]
  },
  {
   "cell_type": "code",
   "execution_count": 4,
   "metadata": {},
   "outputs": [
    {
     "data": {
      "text/html": [
       "<div>\n",
       "<style scoped>\n",
       "    .dataframe tbody tr th:only-of-type {\n",
       "        vertical-align: middle;\n",
       "    }\n",
       "\n",
       "    .dataframe tbody tr th {\n",
       "        vertical-align: top;\n",
       "    }\n",
       "\n",
       "    .dataframe thead th {\n",
       "        text-align: right;\n",
       "    }\n",
       "</style>\n",
       "<table border=\"1\" class=\"dataframe\">\n",
       "  <thead>\n",
       "    <tr style=\"text-align: right;\">\n",
       "      <th></th>\n",
       "      <th>cid</th>\n",
       "      <th>name</th>\n",
       "      <th>type</th>\n",
       "      <th>notnull</th>\n",
       "      <th>dflt_value</th>\n",
       "      <th>pk</th>\n",
       "    </tr>\n",
       "  </thead>\n",
       "  <tbody>\n",
       "    <tr>\n",
       "      <th>0</th>\n",
       "      <td>0</td>\n",
       "      <td>customerNumber</td>\n",
       "      <td></td>\n",
       "      <td>0</td>\n",
       "      <td>None</td>\n",
       "      <td>0</td>\n",
       "    </tr>\n",
       "    <tr>\n",
       "      <th>1</th>\n",
       "      <td>1</td>\n",
       "      <td>customerName</td>\n",
       "      <td></td>\n",
       "      <td>0</td>\n",
       "      <td>None</td>\n",
       "      <td>0</td>\n",
       "    </tr>\n",
       "    <tr>\n",
       "      <th>2</th>\n",
       "      <td>2</td>\n",
       "      <td>contactLastName</td>\n",
       "      <td></td>\n",
       "      <td>0</td>\n",
       "      <td>None</td>\n",
       "      <td>0</td>\n",
       "    </tr>\n",
       "    <tr>\n",
       "      <th>3</th>\n",
       "      <td>3</td>\n",
       "      <td>contactFirstName</td>\n",
       "      <td></td>\n",
       "      <td>0</td>\n",
       "      <td>None</td>\n",
       "      <td>0</td>\n",
       "    </tr>\n",
       "    <tr>\n",
       "      <th>4</th>\n",
       "      <td>4</td>\n",
       "      <td>phone</td>\n",
       "      <td></td>\n",
       "      <td>0</td>\n",
       "      <td>None</td>\n",
       "      <td>0</td>\n",
       "    </tr>\n",
       "    <tr>\n",
       "      <th>5</th>\n",
       "      <td>5</td>\n",
       "      <td>addressLine1</td>\n",
       "      <td></td>\n",
       "      <td>0</td>\n",
       "      <td>None</td>\n",
       "      <td>0</td>\n",
       "    </tr>\n",
       "    <tr>\n",
       "      <th>6</th>\n",
       "      <td>6</td>\n",
       "      <td>addressLine2</td>\n",
       "      <td></td>\n",
       "      <td>0</td>\n",
       "      <td>None</td>\n",
       "      <td>0</td>\n",
       "    </tr>\n",
       "    <tr>\n",
       "      <th>7</th>\n",
       "      <td>7</td>\n",
       "      <td>city</td>\n",
       "      <td></td>\n",
       "      <td>0</td>\n",
       "      <td>None</td>\n",
       "      <td>0</td>\n",
       "    </tr>\n",
       "    <tr>\n",
       "      <th>8</th>\n",
       "      <td>8</td>\n",
       "      <td>state</td>\n",
       "      <td></td>\n",
       "      <td>0</td>\n",
       "      <td>None</td>\n",
       "      <td>0</td>\n",
       "    </tr>\n",
       "    <tr>\n",
       "      <th>9</th>\n",
       "      <td>9</td>\n",
       "      <td>postalCode</td>\n",
       "      <td></td>\n",
       "      <td>0</td>\n",
       "      <td>None</td>\n",
       "      <td>0</td>\n",
       "    </tr>\n",
       "    <tr>\n",
       "      <th>10</th>\n",
       "      <td>10</td>\n",
       "      <td>country</td>\n",
       "      <td></td>\n",
       "      <td>0</td>\n",
       "      <td>None</td>\n",
       "      <td>0</td>\n",
       "    </tr>\n",
       "    <tr>\n",
       "      <th>11</th>\n",
       "      <td>11</td>\n",
       "      <td>salesRepEmployeeNumber</td>\n",
       "      <td></td>\n",
       "      <td>0</td>\n",
       "      <td>None</td>\n",
       "      <td>0</td>\n",
       "    </tr>\n",
       "    <tr>\n",
       "      <th>12</th>\n",
       "      <td>12</td>\n",
       "      <td>creditLimit</td>\n",
       "      <td></td>\n",
       "      <td>0</td>\n",
       "      <td>None</td>\n",
       "      <td>0</td>\n",
       "    </tr>\n",
       "  </tbody>\n",
       "</table>\n",
       "</div>"
      ],
      "text/plain": [
       "    cid                    name type  notnull dflt_value  pk\n",
       "0     0          customerNumber             0       None   0\n",
       "1     1            customerName             0       None   0\n",
       "2     2         contactLastName             0       None   0\n",
       "3     3        contactFirstName             0       None   0\n",
       "4     4                   phone             0       None   0\n",
       "5     5            addressLine1             0       None   0\n",
       "6     6            addressLine2             0       None   0\n",
       "7     7                    city             0       None   0\n",
       "8     8                   state             0       None   0\n",
       "9     9              postalCode             0       None   0\n",
       "10   10                 country             0       None   0\n",
       "11   11  salesRepEmployeeNumber             0       None   0\n",
       "12   12             creditLimit             0       None   0"
      ]
     },
     "execution_count": 4,
     "metadata": {},
     "output_type": "execute_result"
    }
   ],
   "source": [
    "pd.read_sql(\"PRAGMA table_info(customers);\", conn)"
   ]
  },
  {
   "cell_type": "markdown",
   "metadata": {},
   "source": [
    "### Step 2: Limited Edition California Product\n",
    "The California sales rep team is interested in running promotional material for a new limited edition model they are releasing based on the famous San Francisco Cable Cars. This product will only be available to customer stores based in California and given its high price value they want to first target promotional material to existing California customers with a high credit limit. Upon communicating with the accounting department, a credit limit of over 25,000 is considered to be high. \n",
    "\n",
    "Execute a SQl query that returns which customers the sales rep team wants to market to first."
   ]
  },
  {
   "cell_type": "code",
   "execution_count": 13,
   "metadata": {},
   "outputs": [
    {
     "name": "stdout",
     "output_type": "stream",
     "text": [
      "                   customerName state  creditLimit\n",
      "0  Mini Gifts Distributors Ltd.    CA     210500.0\n",
      "1               Mini Wheels Co.    CA      64600.0\n",
      "2          Technics Stores Inc.    CA      84600.0\n",
      "3             Toys4GrownUps.com    CA      90700.0\n",
      "4  Collectable Mini Designs Co.    CA     105000.0\n",
      "5      Corporate Gift Ideas Co.    CA     105000.0\n",
      "6    Men 'R' US Retailers, Ltd.    CA      57700.0\n",
      "7     The Sharp Gifts Warehouse    CA      77600.0\n",
      "8   West Coast Collectables Co.    CA      55400.0\n",
      "9      Signal Collectibles Ltd.    CA      60300.0\n"
     ]
    }
   ],
   "source": [
    "# Replace None with your code\n",
    "query = '''\n",
    "SELECT customerName, state, CAST(creditLimit AS REAL) AS creditLimit\n",
    "FROM customers\n",
    "WHERE state = 'CA' AND CAST(creditLimit AS REAL) > 25000;\n",
    "'''\n",
    "ca_high_credit_customers = pd.read_sql(query, conn)\n",
    "print(ca_high_credit_customers)"
   ]
  },
  {
   "cell_type": "markdown",
   "metadata": {},
   "source": [
    "### Step 3: International Collectable Campaign\n",
    "\n",
    "The international sales rep team has reached out to you to help them identify partners for a 'Collectable' marketing campaign that highlights the potential collectors value in purchasing these model kits. They want to try and promote a 'collect them all' mentality. The team had a great idea to partner with any of their international customers (non-US) who have \"Collect\" in their name as a tie in to the larger theme.\n",
    "\n",
    "Execute a SQL that returns the customers in question."
   ]
  },
  {
   "cell_type": "code",
   "execution_count": 15,
   "metadata": {},
   "outputs": [
    {
     "name": "stdout",
     "output_type": "stream",
     "text": [
      "                          customerName      country\n",
      "0           Australian Collectors, Co.    Australia\n",
      "1              Clover Collections, Co.      Ireland\n",
      "2                UK Collectables, Ltd.           UK\n",
      "3          King Kong Collectables, Co.    Hong Kong\n",
      "4                 Heintze Collectables      Denmark\n",
      "5    Royal Canadian Collectables, Ltd.       Canada\n",
      "6                    BG&E Collectables  Switzerland\n",
      "7                   Reims Collectables       France\n",
      "8                Precious Collectables  Switzerland\n",
      "9                Salzburg Collectables      Austria\n",
      "10             Tokyo Collectables, Ltd        Japan\n",
      "11      Stuttgart Collectable Exchange      Germany\n",
      "12  Bavarian Collectables Imports, Co.      Germany\n",
      "13        Australian Collectables, Ltd    Australia\n",
      "14           Kremlin Collectables, Co.       Russia\n"
     ]
    }
   ],
   "source": [
    "# Replace None with your code\n",
    "query = '''\n",
    "SELECT customerName, country\n",
    "FROM customers\n",
    "WHERE country != 'USA' AND customerName LIKE '%Collect%';\n",
    "'''\n",
    "\n",
    "collect_campaign_customers = pd.read_sql(query, conn)\n",
    "print(collect_campaign_customers)\n"
   ]
  },
  {
   "cell_type": "markdown",
   "metadata": {},
   "source": [
    "Reflection Question:\n",
    "Describe the WHERE clause you used in the above query to a non-technical manager who wants to be ensured that you are properly filtering and only selecting the requested data. How is the operator and conditional expression you are using acting to accomplish this?\n",
    "\n",
    "I empathize with the non-technical manager, so here's my best explanation. The WHERE clause is used to make sure we’re only looking at international customers relevant to the campaign. It works like a filter that narrows down the data to only what we care about. Country != 'USA' ensures that we exclude all U.S.-based customers, so we're focused only on international partners. customerName LIKE '%Collect%' helps us find customers whose names include the word \"Collect\", which aligns with the campaign’s collector theme. These two conditions are joined with the AND operator, which means both must be true for a customer to be included in the results. That way, we’re only seeing international customers whose names reflect the campaign’s message.\n",
    "\n"
   ]
  },
  {
   "cell_type": "markdown",
   "metadata": {},
   "source": [
    "### Step 4: USA Credit and Inventory Policy - Visual Required\n",
    "The USA based product team is planning to adjust its credit policies and inventory allocation strategy based on the average credit limit of its customers. They would like to target this strategy at a state level with several goals in mind. \n",
    "1. Optimize inventory distribution:\n",
    "    - States with higher average credit limits might be able to place larger orders, justifying priority in inventory allocation.\n",
    "    - This could help ensure that states with more purchasing power always have products in stock.\n",
    "2. Tailor credit policies:\n",
    "    - Adjust credit limits for new customers based on the state average.\n",
    "    - Identify states where they might be too conservative or too liberal with credit limits.\n",
    "3. Target marketing and sales efforts:\n",
    "    - Focus promotional campaigns on states with higher credit limits, potentially leading to larger orders.\n",
    "    - Develop strategies to increase sales in states with lower average credit limits.\n",
    "\n",
    "Execute a SQl query that returns the information required to address this ask."
   ]
  },
  {
   "cell_type": "code",
   "execution_count": 19,
   "metadata": {},
   "outputs": [
    {
     "name": "stdout",
     "output_type": "stream",
     "text": [
      "  state  avg_credit_limit\n",
      "0    NH     114200.000000\n",
      "1    NY      89966.666667\n",
      "2    PA      84766.666667\n",
      "3    CA      83854.545455\n",
      "4    NV      71800.000000\n",
      "5    MA      70755.555556\n",
      "6    CT      57350.000000\n",
      "7    NJ      43000.000000\n"
     ]
    }
   ],
   "source": [
    "# Replace None with your code\n",
    "query = '''\n",
    "SELECT state, AVG(creditLimit) AS avg_credit_limit\n",
    "FROM customers\n",
    "WHERE country = 'USA'\n",
    "GROUP BY state\n",
    "ORDER BY avg_credit_limit DESC;\n",
    "'''\n",
    "\n",
    "state_avg_credit = pd.read_sql(query, conn)\n",
    "print(state_avg_credit)"
   ]
  },
  {
   "cell_type": "markdown",
   "metadata": {},
   "source": [
    "Once you have the information returned in a dataframe, select an appropriate visualization to represent this data. You are welcome to utilize matplotlib, seaborn, or pandas plotting to produce your visual. Ensure that it has a verbose title and axis labels!"
   ]
  },
  {
   "cell_type": "code",
   "execution_count": 25,
   "metadata": {},
   "outputs": [
    {
     "data": {
      "text/plain": [
       "<Axes: title={'center': 'Average Credit Limit by State'}, xlabel='State', ylabel='Average Credit Limit'>"
      ]
     },
     "execution_count": 25,
     "metadata": {},
     "output_type": "execute_result"
    },
    {
     "data": {
      "image/png": "[encoded data removed]",
      "text/plain": [
       "<Figure size 1000x600 with 1 Axes>"
      ]
     },
     "metadata": {},
     "output_type": "display_data"
    }
   ],
   "source": [
    "# Replace None with your visual code\n",
    "# Produce a visual to represent the average credit limit by state\n",
    "state_avg_credit.plot(\n",
    "    kind='bar',\n",
    "    x='state',\n",
    "    y='avg_credit_limit',\n",
    "    figsize=(10,6),\n",
    "    title='Average Credit Limit by State',\n",
    "    xlabel='State',\n",
    "    ylabel='Average Credit Limit',\n",
    "    legend=False\n",
    ")"
   ]
  },
  {
   "cell_type": "markdown",
   "metadata": {},
   "source": [
    "### Step 5: Top Customers - Visual Required\n",
    "The company is approaching its 10 year anniversary and wants to acknowledge and thank its top customers with personalized communication. They have asked you to determine the top 10 customers based on the total amount of payments made, making sure to return the customer name for clarity. \n",
    "\n",
    "Execute a SQl query that returns the information required to address this ask.\n"
   ]
  },
  {
   "cell_type": "code",
   "execution_count": 30,
   "metadata": {},
   "outputs": [
    {
     "name": "stdout",
     "output_type": "stream",
     "text": [
      "                   customerName\n",
      "0        Euro+ Shopping Channel\n",
      "1  Mini Gifts Distributors Ltd.\n",
      "2    Australian Collectors, Co.\n",
      "3            Muscle Machine Inc\n",
      "4       Dragon Souveniers, Ltd.\n",
      "5    Down Under Souveniers, Inc\n",
      "6                AV Stores, Co.\n",
      "7       Anna's Decorations, Ltd\n",
      "8      Corporate Gift Ideas Co.\n",
      "9        Saveley & Henriot, Co.\n"
     ]
    }
   ],
   "source": [
    "# Replace None with your code\n",
    "query = '''\n",
    "SELECT\n",
    "    c.customerName\n",
    "FROM payments p\n",
    "JOIN customers c ON p.customerNumber = c.customerNumber\n",
    "GROUP BY c.customerName\n",
    "ORDER BY SUM(p.amount) DESC\n",
    "LIMIT 10;\n",
    "'''\n",
    "\n",
    "top_customer_names = pd.read_sql(query, conn)\n",
    "print(top_customer_names)"
   ]
  },
  {
   "cell_type": "markdown",
   "metadata": {},
   "source": [
    "Once you have the information returned in a dataframe, select an appropriate visualization to represent this data. You are welcome to utilize matplotlib, seaborn, or pandas plotting to produce your visual. Ensure that it has a verbose title and axis labels!"
   ]
  },
  {
   "cell_type": "code",
   "execution_count": 33,
   "metadata": {},
   "outputs": [
    {
     "data": {
      "image/png": "[encoded data removed]",
      "text/plain": [
       "<Figure size 1000x600 with 1 Axes>"
      ]
     },
     "metadata": {},
     "output_type": "display_data"
    }
   ],
   "source": [
    "# Replace None with your visual code\n",
    "# Produce a visual to represent the top ten customers in terms of total payments\n",
    "import matplotlib.pyplot as plt\n",
    "\n",
    "ax = top_customers.sort_values('total_payments').plot(\n",
    "        kind='barh',\n",
    "        x='customerName',\n",
    "        y='total_payments',\n",
    "        figsize=(10,6),\n",
    "        legend=False,\n",
    "        title='Top 10 Customers by Total Payments'\n",
    ")\n",
    "ax.set_xlabel('Total Payements ($)')\n",
    "ax.set_ylabel('Customer')\n",
    "plt.tight_layout()"
   ]
  },
  {
   "cell_type": "markdown",
   "metadata": {},
   "source": [
    "### Step 6: Top Customer + Product Quantities\n",
    "The product team is running an analysis on popular and common products sold to each customer in order to try and determine what new products they should be looking at to include in their catalog. This data will also be used by individual sales reps to recommend similar products to each customer next time they place an order. \n",
    "\n",
    "They have asked you to query information, for each customer, about any product they have purchased 10 or more units of. In addition they would like the full set of data to be sorted in ascending order by the total amount purchased.\n",
    "\n",
    "Execute a SQl query that returns the information required to address this ask.\n",
    "\n",
    "Hint: For this one, you'll need to make use of HAVING, GROUP BY, and ORDER BY — make sure you get the order of them correct!"
   ]
  },
  {
   "cell_type": "code",
   "execution_count": 39,
   "metadata": {},
   "outputs": [
    {
     "name": "stdout",
     "output_type": "stream",
     "text": [
      "                    customerName                       productName  total_quantity\n",
      "0  Extreme Desk Decorations, Ltd             1961 Chevrolet Impala              10\n",
      "1                     Petit Auto       1913 Ford Model T Speedster              10\n",
      "2              La Rochelle Gifts       1954 Greyhound Scenicruiser              11\n",
      "3        Tekni Collectables Inc.       American Airlines: B767-300              11\n",
      "4      The Sharp Gifts Warehouse         1969 Chevrolet Camaro Z28              13\n",
      "5            L'ordine Souveniers                    P-51-D Mustang              15\n",
      "6          Salzburg Collectables           1982 Lamborghini Diablo              15\n",
      "7      Souveniers And Things Co.  1936 Mercedes Benz 500k Roadster              15\n",
      "8        Tokyo Collectables, Ltd  1936 Mercedes Benz 500k Roadster              15\n",
      "9  Extreme Desk Decorations, Ltd              1969 Dodge Super Bee              16\n"
     ]
    }
   ],
   "source": [
    "# Replace None with you code\n",
    "query = '''\n",
    "SELECT\n",
    "    c.customerName, \n",
    "    p.productName,\n",
    "    SUM(od.quantityOrdered) AS total_quantity\n",
    "FROM customers c\n",
    "JOIN orders o ON c.customerNumber = o.customerNumber\n",
    "JOIN orderdetails od ON o.orderNumber = od.orderNumber\n",
    "JOIN products p ON od.productCode = p.productCode\n",
    "GROUP BY c.customerName, p.productName\n",
    "HAVING total_quantity >= 10\n",
    "ORDER BY total_quantity ASC;\n",
    "'''\n",
    "\n",
    "pd.set_option('display.max_colwidth', 40)\n",
    "pd.set_option('display.width', 120)\n",
    "\n",
    "print(popular_products_per_customer.head(10))"
   ]
  },
  {
   "cell_type": "markdown",
   "metadata": {},
   "source": [
    "### Step 7: Product Analysis - Visual Required\n",
    "\n",
    "The product team is looking into the demand across its different product lines. They are conducting a comprehensive review of its product portfolio and inventory management strategies. You have been asked to query data pertaining to each different product line, that contains the total quantity ordered and the total number of products for each respective product line. By examining the number of products and total quantity ordered for each product line, the company aims to:\n",
    "1. Optimize product mix:\n",
    "    - Identify which product lines have the most diverse offerings (high number of products)\n",
    "    - Determine which lines are most popular (high total quantity ordered)\n",
    "    - Compare if lines with more products necessarily lead to more orders\n",
    "2. Improve inventory management:\n",
    "    - Adjust stock levels based on the popularity of each product line\n",
    "    - Identify potential overstocking in lines with low order quantities\n",
    "    - Ensure adequate variety in high-performing product lines\n",
    "3. Adjust marketing strategy:\n",
    "    - Focus promotional efforts on product lines with high potential (many products but lower order quantities)\n",
    "    - Capitalize on the popularity of high-performing lines in marketing campaigns\n",
    "4. Advise Product development:\n",
    "    - Invest in expanding product ranges for lines with high order quantities\n",
    "    - Consider phasing out or revamping product lines with low numbers of products and low order quantities\n",
    "\n",
    "Hint: Think about how you can and might have to utilize SQL DISTINCT statement\n",
    "\n",
    "Execute a SQl query that returns the information required to address this ask."
   ]
  },
  {
   "cell_type": "code",
   "execution_count": 41,
   "metadata": {},
   "outputs": [
    {
     "name": "stdout",
     "output_type": "stream",
     "text": [
      "        productLine  num_products  total_quantity_ordered\n",
      "0      Classic Cars            37                   35582\n",
      "1      Vintage Cars            24                   22933\n",
      "2       Motorcycles            13                   12778\n",
      "3            Planes            12                   11872\n",
      "4  Trucks and Buses            11                   11001\n",
      "5             Ships             9                    8532\n",
      "6            Trains             3                    2818\n"
     ]
    }
   ],
   "source": [
    "# Replace None with your code\n",
    "query = '''\n",
    "SELECT\n",
    "    p.productLine,\n",
    "    COUNT(DISTINCT p.productCode) AS num_products,\n",
    "    SUM(od.quantityOrdered) AS total_quantity_ordered\n",
    "FROM products p\n",
    "JOIN orderDetails od ON p.productCode = od.productCode\n",
    "GROUP BY p.productLine\n",
    "ORDER BY total_quantity_ordered DESC;\n",
    "'''\n",
    "product_line_summary = pd.read_sql(query, conn)\n",
    "print(product_line_summary)"
   ]
  },
  {
   "cell_type": "markdown",
   "metadata": {},
   "source": [
    "Once you have the information returned in a dataframe, select an appropriate visualization to represent the relationship between total quantity ordered and the number of products in order to perform a preliminary investigation into the question of if more products lead to more orders. You are welcome to utilize matplotlib, seaborn, or pandas plotting to produce your visual. Ensure that it has a verbose title and axis labels!"
   ]
  },
  {
   "cell_type": "code",
   "execution_count": 44,
   "metadata": {},
   "outputs": [
    {
     "data": {
      "image/png": "[encoded data removed]",
      "text/plain": [
       "<Figure size 1000x600 with 1 Axes>"
      ]
     },
     "metadata": {},
     "output_type": "display_data"
    }
   ],
   "source": [
    "# Replace None with your visual code\n",
    "# Produce a visual to represent the the relation between number of products and the total amount ordered\n",
    "import seaborn as sns\n",
    "import matplotlib.pyplot as plt\n",
    "\n",
    "plt.figure(figsize=(10,6))\n",
    "sns.scatterplot(\n",
    "    data=product_line_summary,\n",
    "    x='num_products',\n",
    "    y='total_quantity_ordered',\n",
    "    hue='productLine',\n",
    "    s=120\n",
    ")\n",
    "\n",
    "plt.title('Product Line Diversity and Order Volume', fontsize=14)\n",
    "plt.xlabel('Unique Products in Product Line', fontsize=12)\n",
    "plt.ylabel('Total Quantity Ordered', fontsize=12)\n",
    "plt.grid(True)\n",
    "plt.tight_layout()\n",
    "plt.show()"
   ]
  },
  {
   "cell_type": "markdown",
   "metadata": {},
   "source": [
    "Reflection Question:\n",
    "Please explain your choice in the type of visual you used in order to highlight and represent the data from the above query. In a non-technical manner explain why that chart type makes sense for the information being conveyed. What does this visual convey in the context of the question it was asked for?\n",
    "\n",
    "This scatter plot illustrates the relationship between the number of unique products in a product line and the total quantity ordered. There is clearly an upward trend, suggesting that product lines with more offerings tend to receive more total orders. However, additional analysis is needed to understand which specific products are driving sales within those lines. For example, Classic Cars and Vintage Cars stand out as high performers, but this may be due in part to the fact that they simply have more products available compared to lines like Trains. This highlights the need to dig deeper into product level performance, not just line level metrics. Additionally, seasonality could play a major role in customer demand, and floor space considerations may affect which product lines are prioritized in marketing and inventory planning. This plot provides a strong starting point for more granular, action-oriented analysis.\n",
    "\n"
   ]
  },
  {
   "cell_type": "markdown",
   "metadata": {},
   "source": [
    "### Step 8: Remote Offices\n",
    "Upper management is considering a shift to hybrid and remote work for certain locations and roles. They have tasked you with providing them data about employees who work in any office that has fewer than 5 total employees so they can better understand how to support those employees remotely when offices are shut down. \n",
    "\n",
    "Be sure to include information about the employees job and supervisor so management can adjust everyone to remote work properly.\n",
    "\n",
    "Hint: Utilize a subquery to find the relevant offices\n",
    "\n",
    "Execute a SQl query that returns the information required to address this ask."
   ]
  },
  {
   "cell_type": "code",
   "execution_count": 63,
   "metadata": {},
   "outputs": [
    {
     "name": "stdout",
     "output_type": "stream",
     "text": [
      "   employeeNumber              jobTitle officeCode    city    country        managerName\n",
      "0            1188             Sales Rep          2  Boston        USA        Anthony Bow\n",
      "1            1216             Sales Rep          2  Boston        USA        Anthony Bow\n",
      "2            1286             Sales Rep          3     NYC        USA        Anthony Bow\n",
      "3            1323             Sales Rep          3     NYC        USA        Anthony Bow\n",
      "4            1621             Sales Rep          5   Tokyo      Japan     Mary Patterson\n",
      "5            1625             Sales Rep          5   Tokyo      Japan         Mami Nishi\n",
      "6            1088  Sales Manager (APAC)          6  Sydney  Australia     Mary Patterson\n",
      "7            1611             Sales Rep          6  Sydney  Australia  William Patterson\n",
      "8            1612             Sales Rep          6  Sydney  Australia  William Patterson\n",
      "9            1619             Sales Rep          6  Sydney  Australia  William Patterson\n",
      "10           1501             Sales Rep          7  London         UK      Gerard Bondur\n",
      "11           1504             Sales Rep          7  London         UK      Gerard Bondur\n"
     ]
    }
   ],
   "source": [
    "# Replace None with your code\n",
    "query = '''\n",
    "SELECT\n",
    "    e.employeeNumber,\n",
    "    e.jobTitle,\n",
    "    e.officeCode,\n",
    "    o.city,\n",
    "    o.country,\n",
    "    CONCAT(m.firstName, ' ', m.lastName) AS managerName\n",
    "    FROM employees e\n",
    "    LEFT JOIN employees m ON e.reportsTo = m.employeeNumber\n",
    "    JOIN offices o ON e.officeCode = o.officeCode\n",
    "    WHERE e.officeCode IN (\n",
    "        SELECT officeCode\n",
    "        FROM employees\n",
    "        GROUP BY officeCode\n",
    "        HAVING COUNT(*) < 5\n",
    "    )\n",
    "    ORDER BY e.officeCode;\n",
    "    '''\n",
    "small_office_employees = pd.read_sql(query, conn)\n",
    "print(small_office_employees)"
   ]
  },
  {
   "cell_type": "markdown",
   "metadata": {},
   "source": [
    "Reflection Question:\n",
    "Describe how you decided on the subquery that you used in the query above? This answer can be technically in nature, describing your thought process in how the main query is utilizing the subquery to return the correct data.\n",
    "I used a subquery to isolate only those office codes that had fewer than 5 employees. This formed the foundation for filtering which employees would be included in the main query. The subquery groups all employees by their office code and filters those groups using HAVING. This allows us to dynamically identify small offices without hard coding specific values. In the main query, I used this subquery inside a WHERE ... IN clause to limit the employee records to just those working in the smaller offices. This structure ensures the main query remains scalable and accurate, adapting automatically to changes in office sizes without requiring manual updates. By using this approach, I was able to cleanly separate the logic for identifying relevant offices and use that result to retrieve detailed employee information, including job title, manager, and office location.\n",
    "I also got curious about Mary Patterson and suspected she might be a corporate sales VP, but further investigation revealed a dead end. Her employee number appears to be a dangling reference in the dataset or maybe she retired. \n"
   ]
  },
  {
   "cell_type": "code",
   "execution_count": 50,
   "metadata": {},
   "outputs": [
    {
     "name": "stdout",
     "output_type": "stream",
     "text": [
      "Empty DataFrame\n",
      "Columns: [employeeNumber, firstName, lastName, jobTitle, officeCode]\n",
      "Index: []\n"
     ]
    }
   ],
   "source": [
    "query = '''\n",
    "SELECT\n",
    "    e.employeeNumber,\n",
    "    e.firstName,\n",
    "    e.lastName,\n",
    "    e.jobTitle,\n",
    "    e.officeCode\n",
    "FROM employees e\n",
    "WHERE e.reportsTo = 1088;\n",
    "'''\n",
    "\n",
    "reporting_to_1088 = pd.read_sql(query, conn)\n",
    "print(reporting_to_1088)"
   ]
  },
  {
   "cell_type": "code",
   "execution_count": 51,
   "metadata": {},
   "outputs": [
    {
     "data": {
      "text/html": [
       "<div>\n",
       "<style scoped>\n",
       "    .dataframe tbody tr th:only-of-type {\n",
       "        vertical-align: middle;\n",
       "    }\n",
       "\n",
       "    .dataframe tbody tr th {\n",
       "        vertical-align: top;\n",
       "    }\n",
       "\n",
       "    .dataframe thead th {\n",
       "        text-align: right;\n",
       "    }\n",
       "</style>\n",
       "<table border=\"1\" class=\"dataframe\">\n",
       "  <thead>\n",
       "    <tr style=\"text-align: right;\">\n",
       "      <th></th>\n",
       "      <th>employeeNumber</th>\n",
       "      <th>firstName</th>\n",
       "      <th>lastName</th>\n",
       "      <th>jobTitle</th>\n",
       "      <th>reportsTo</th>\n",
       "      <th>officeCode</th>\n",
       "    </tr>\n",
       "  </thead>\n",
       "  <tbody>\n",
       "  </tbody>\n",
       "</table>\n",
       "</div>"
      ],
      "text/plain": [
       "Empty DataFrame\n",
       "Columns: [employeeNumber, firstName, lastName, jobTitle, reportsTo, officeCode]\n",
       "Index: []"
      ]
     },
     "execution_count": 51,
     "metadata": {},
     "output_type": "execute_result"
    }
   ],
   "source": [
    "query = '''\n",
    "SELECT\n",
    "    employeeNumber,\n",
    "    firstName,\n",
    "    lastName,\n",
    "    jobTitle,\n",
    "    reportsTo,\n",
    "    officeCode\n",
    "FROM employees\n",
    "WHERE employeeNumber = 1088;\n",
    "'''\n",
    "pd.read_sql(query, conn)"
   ]
  },
  {
   "cell_type": "markdown",
   "metadata": {},
   "source": [
    "### Step 9: Close the Connection\n",
    "\n",
    "Now that you are finished executing your queries and retrieving the required information you always want to make sure to close the connection to your database."
   ]
  },
  {
   "cell_type": "code",
   "execution_count": 64,
   "metadata": {},
   "outputs": [],
   "source": [
    "# Replace None with your code\n",
    "conn.close()"
   ]
  },
  {
   "cell_type": "markdown",
   "metadata": {},
   "source": [
    "### End of Guided Section\n",
    "In this initial portion of the assessment, you produced several data queries and visualizations for a model company, mainly focused around its customer and product data. You wrote and engineered specific SQL queries to address pertinent questions and asks from the company. Along the way, you utilized many of the major concepts and keywords associated with SQL SELECT queries: FROM, WHERE, GROUP BY, HAVING, ORDER BY, JOIN, SUM, COUNT, and AVG.\n",
    "\n",
    "## Part 2: Exploratory Analysis with SQL\n",
    "In this open-ended exploratory section, you will analyze real-world data from the movie industry. As a data analyst, you have the freedom to investigate questions and topics that intrigue you within this dataset. The database schema and Entity-Relationship Diagram (ERD) are provided below for your reference. A general overview and instructions are also provided below."
   ]
  },
  {
   "cell_type": "code",
   "execution_count": 66,
   "metadata": {},
   "outputs": [
    {
     "data": {
      "text/html": [
       "<div>\n",
       "<style scoped>\n",
       "    .dataframe tbody tr th:only-of-type {\n",
       "        vertical-align: middle;\n",
       "    }\n",
       "\n",
       "    .dataframe tbody tr th {\n",
       "        vertical-align: top;\n",
       "    }\n",
       "\n",
       "    .dataframe thead th {\n",
       "        text-align: right;\n",
       "    }\n",
       "</style>\n",
       "<table border=\"1\" class=\"dataframe\">\n",
       "  <thead>\n",
       "    <tr style=\"text-align: right;\">\n",
       "      <th></th>\n",
       "      <th>type</th>\n",
       "      <th>name</th>\n",
       "      <th>tbl_name</th>\n",
       "      <th>rootpage</th>\n",
       "      <th>sql</th>\n",
       "    </tr>\n",
       "  </thead>\n",
       "  <tbody>\n",
       "    <tr>\n",
       "      <th>0</th>\n",
       "      <td>table</td>\n",
       "      <td>movie_basics</td>\n",
       "      <td>movie_basics</td>\n",
       "      <td>2</td>\n",
       "      <td>CREATE TABLE \"movie_basics\" (\\n\"movi...</td>\n",
       "    </tr>\n",
       "    <tr>\n",
       "      <th>1</th>\n",
       "      <td>table</td>\n",
       "      <td>directors</td>\n",
       "      <td>directors</td>\n",
       "      <td>3</td>\n",
       "      <td>CREATE TABLE \"directors\" (\\n\"movie_i...</td>\n",
       "    </tr>\n",
       "    <tr>\n",
       "      <th>2</th>\n",
       "      <td>table</td>\n",
       "      <td>known_for</td>\n",
       "      <td>known_for</td>\n",
       "      <td>4</td>\n",
       "      <td>CREATE TABLE \"known_for\" (\\n\"person_...</td>\n",
       "    </tr>\n",
       "    <tr>\n",
       "      <th>3</th>\n",
       "      <td>table</td>\n",
       "      <td>movie_akas</td>\n",
       "      <td>movie_akas</td>\n",
       "      <td>5</td>\n",
       "      <td>CREATE TABLE \"movie_akas\" (\\n\"movie_...</td>\n",
       "    </tr>\n",
       "    <tr>\n",
       "      <th>4</th>\n",
       "      <td>table</td>\n",
       "      <td>movie_ratings</td>\n",
       "      <td>movie_ratings</td>\n",
       "      <td>6</td>\n",
       "      <td>CREATE TABLE \"movie_ratings\" (\\n\"mov...</td>\n",
       "    </tr>\n",
       "    <tr>\n",
       "      <th>5</th>\n",
       "      <td>table</td>\n",
       "      <td>persons</td>\n",
       "      <td>persons</td>\n",
       "      <td>7</td>\n",
       "      <td>CREATE TABLE \"persons\" (\\n\"person_id...</td>\n",
       "    </tr>\n",
       "    <tr>\n",
       "      <th>6</th>\n",
       "      <td>table</td>\n",
       "      <td>principals</td>\n",
       "      <td>principals</td>\n",
       "      <td>8</td>\n",
       "      <td>CREATE TABLE \"principals\" (\\n\"movie_...</td>\n",
       "    </tr>\n",
       "    <tr>\n",
       "      <th>7</th>\n",
       "      <td>table</td>\n",
       "      <td>writers</td>\n",
       "      <td>writers</td>\n",
       "      <td>9</td>\n",
       "      <td>CREATE TABLE \"writers\" (\\n\"movie_id\"...</td>\n",
       "    </tr>\n",
       "  </tbody>\n",
       "</table>\n",
       "</div>"
      ],
      "text/plain": [
       "    type           name       tbl_name  rootpage                                      sql\n",
       "0  table   movie_basics   movie_basics         2  CREATE TABLE \"movie_basics\" (\\n\"movi...\n",
       "1  table      directors      directors         3  CREATE TABLE \"directors\" (\\n\"movie_i...\n",
       "2  table      known_for      known_for         4  CREATE TABLE \"known_for\" (\\n\"person_...\n",
       "3  table     movie_akas     movie_akas         5  CREATE TABLE \"movie_akas\" (\\n\"movie_...\n",
       "4  table  movie_ratings  movie_ratings         6  CREATE TABLE \"movie_ratings\" (\\n\"mov...\n",
       "5  table        persons        persons         7  CREATE TABLE \"persons\" (\\n\"person_id...\n",
       "6  table     principals     principals         8  CREATE TABLE \"principals\" (\\n\"movie_...\n",
       "7  table        writers        writers         9  CREATE TABLE \"writers\" (\\n\"movie_id\"..."
      ]
     },
     "execution_count": 66,
     "metadata": {},
     "output_type": "execute_result"
    }
   ],
   "source": [
    "# Run this cell without changes\n",
    "import zipfile\n",
    "\n",
    "zip_file_path = 'im.db.zip'\n",
    "extract_to_path = './'\n",
    "\n",
    "with zipfile.ZipFile(zip_file_path, 'r') as zip_ref:\n",
    "    zip_ref.extractall(extract_to_path)\n",
    "\n",
    "# Connection\n",
    "conn4 = sqlite3.connect('im.db')\n",
    "\n",
    "# Schema\n",
    "schema_df = pd.read_sql(\"\"\"\n",
    "SElECT * FROM sqlite_master                        \n",
    "\"\"\", conn4)\n",
    "schema_df"
   ]
  },
  {
   "cell_type": "markdown",
   "metadata": {},
   "source": [
    "## The Data\n",
    "\n",
    "![movie ERD](images/movie_data_erd.jpeg)\n",
    "### Database Content:\n",
    "\n",
    "- Source: IMDB\n",
    "- Time Range: Movies released between 2010 and 2019\n",
    "- Note: Exclude any movies with a start_year after 2019 as this data is not current or accurate\n",
    "\n",
    "Available Data Categories:\n",
    "- Genre\n",
    "- Runtime\n",
    "- Personnel (writers, directors, actors)\n",
    "- Movie ratings\n",
    "\n",
    "### Objectives:\n",
    "\n",
    "Initial Exploration:\n",
    "- Use SQL in combination with Pandas to explore the database\n",
    "- Identify interesting trends, patterns, or relationships in the data\n",
    "\n",
    "Business Question Formulation:\n",
    "- Develop at least one substantial business question for deeper analysis\n",
    "- Ensure the question is relevant, specific, and can be addressed with the available data\n",
    "\n",
    "Data Cleaning Assessment:\n",
    "- Identify potential data cleaning tasks necessary for your deeper analysis\n",
    "- Note: You are not required to perform the cleaning, only to recognize and list the necessary tasks\n",
    "\n",
    "Null Value Handling:\n",
    "- Be aware that the dataset contains null values in certain fields\n",
    "- Exclude these null values from your exploration\n",
    "- Do not attempt to input or fill in missing information\n",
    "\n",
    "### Deliverables:\n",
    "\n",
    "You need to produce a short slide presentation (3-5 slides) that highlights the three key deliverables below. Utilize a data visualization to support the second deliverable.\n",
    "\n",
    "1. A summary of your initial data exploration findings\n",
    "    - Can be bulleted or sentence form\n",
    "2. At least one well-formulated business question for further analysis\n",
    "    - Should stem from a relevant trend or pattern your initial exploration identified\n",
    "3. A list of potential data cleaning tasks identified during your exploration\n",
    "    - This can and should include things like data normalization/standardization and null handling\n",
    "\n",
    "Tips for Success:\n",
    "\n",
    "Begin with broad exploratory queries to understand the data's scope and content. Then focus on honing in on interesting relationships between different data categories. Consider industry trends, audience preferences, or financial aspects when formulating your business question. Pay attention to data quality issues, inconsistencies, or limitations that might affect your analysis. Remember, the goal is to demonstrate your analytical thinking and ability to derive meaningful insights from complex datasets. Good luck with your exploration!\n",
    "\n",
    "NOTE: You do not need to explore every aspect of this database. Find something that you think is interesting or relevant about the data and focus your exploration there."
   ]
  },
  {
   "cell_type": "code",
   "execution_count": 81,
   "metadata": {},
   "outputs": [
    {
     "data": {
      "text/html": [
       "<div>\n",
       "<style scoped>\n",
       "    .dataframe tbody tr th:only-of-type {\n",
       "        vertical-align: middle;\n",
       "    }\n",
       "\n",
       "    .dataframe tbody tr th {\n",
       "        vertical-align: top;\n",
       "    }\n",
       "\n",
       "    .dataframe thead th {\n",
       "        text-align: right;\n",
       "    }\n",
       "</style>\n",
       "<table border=\"1\" class=\"dataframe\">\n",
       "  <thead>\n",
       "    <tr style=\"text-align: right;\">\n",
       "      <th></th>\n",
       "      <th>movie_id</th>\n",
       "      <th>primary_title</th>\n",
       "      <th>original_title</th>\n",
       "      <th>start_year</th>\n",
       "      <th>runtime_minutes</th>\n",
       "      <th>genres</th>\n",
       "    </tr>\n",
       "  </thead>\n",
       "  <tbody>\n",
       "    <tr>\n",
       "      <th>0</th>\n",
       "      <td>tt0063540</td>\n",
       "      <td>Sunghursh</td>\n",
       "      <td>Sunghursh</td>\n",
       "      <td>2013</td>\n",
       "      <td>175.0</td>\n",
       "      <td>Action,Crime,Drama</td>\n",
       "    </tr>\n",
       "    <tr>\n",
       "      <th>1</th>\n",
       "      <td>tt0066787</td>\n",
       "      <td>One Day Before the Rainy Season</td>\n",
       "      <td>Ashad Ka Ek Din</td>\n",
       "      <td>2019</td>\n",
       "      <td>114.0</td>\n",
       "      <td>Biography,Drama</td>\n",
       "    </tr>\n",
       "    <tr>\n",
       "      <th>2</th>\n",
       "      <td>tt0069049</td>\n",
       "      <td>The Other Side of the Wind</td>\n",
       "      <td>The Other Side of the Wind</td>\n",
       "      <td>2018</td>\n",
       "      <td>122.0</td>\n",
       "      <td>Drama</td>\n",
       "    </tr>\n",
       "    <tr>\n",
       "      <th>3</th>\n",
       "      <td>tt0069204</td>\n",
       "      <td>Sabse Bada Sukh</td>\n",
       "      <td>Sabse Bada Sukh</td>\n",
       "      <td>2018</td>\n",
       "      <td>NaN</td>\n",
       "      <td>Comedy,Drama</td>\n",
       "    </tr>\n",
       "    <tr>\n",
       "      <th>4</th>\n",
       "      <td>tt0100275</td>\n",
       "      <td>The Wandering Soap Opera</td>\n",
       "      <td>La Telenovela Errante</td>\n",
       "      <td>2017</td>\n",
       "      <td>80.0</td>\n",
       "      <td>Comedy,Drama,Fantasy</td>\n",
       "    </tr>\n",
       "  </tbody>\n",
       "</table>\n",
       "</div>"
      ],
      "text/plain": [
       "    movie_id                    primary_title              original_title  start_year  runtime_minutes  \\\n",
       "0  tt0063540                        Sunghursh                   Sunghursh        2013            175.0   \n",
       "1  tt0066787  One Day Before the Rainy Season             Ashad Ka Ek Din        2019            114.0   \n",
       "2  tt0069049       The Other Side of the Wind  The Other Side of the Wind        2018            122.0   \n",
       "3  tt0069204                  Sabse Bada Sukh             Sabse Bada Sukh        2018              NaN   \n",
       "4  tt0100275         The Wandering Soap Opera       La Telenovela Errante        2017             80.0   \n",
       "\n",
       "                 genres  \n",
       "0    Action,Crime,Drama  \n",
       "1       Biography,Drama  \n",
       "2                 Drama  \n",
       "3          Comedy,Drama  \n",
       "4  Comedy,Drama,Fantasy  "
      ]
     },
     "execution_count": 81,
     "metadata": {},
     "output_type": "execute_result"
    }
   ],
   "source": [
    "import zipfile\n",
    "import sqlite3\n",
    "import pandas as pd\n",
    "\n",
    "zip_file_path = 'im.db.zip'\n",
    "extract_to_path = './' \n",
    "\n",
    "with zipfile.ZipFile(zip_file_path, 'r') as zip_ref:\n",
    "    zip_ref.extractall(extract_to_path)\n",
    "\n",
    "conn = sqlite3.connect('im.db')\n",
    "\n",
    "schema_df = pd.read_sql(\"\"\"\n",
    "    SELECT name FROM sqlite_master\n",
    "    WHERE type='table';\n",
    "\"\"\", conn)\n",
    "\n",
    "schema_df\n",
    "\n",
    "pd.read_sql(\"SELECT * FROM movie_basics LIMIT 5;\", conn)\n"
   ]
  },
  {
   "cell_type": "code",
   "execution_count": 67,
   "metadata": {},
   "outputs": [
    {
     "data": {
      "text/html": [
       "<div>\n",
       "<style scoped>\n",
       "    .dataframe tbody tr th:only-of-type {\n",
       "        vertical-align: middle;\n",
       "    }\n",
       "\n",
       "    .dataframe tbody tr th {\n",
       "        vertical-align: top;\n",
       "    }\n",
       "\n",
       "    .dataframe thead th {\n",
       "        text-align: right;\n",
       "    }\n",
       "</style>\n",
       "<table border=\"1\" class=\"dataframe\">\n",
       "  <thead>\n",
       "    <tr style=\"text-align: right;\">\n",
       "      <th></th>\n",
       "      <th>movie_id</th>\n",
       "      <th>averagerating</th>\n",
       "      <th>numvotes</th>\n",
       "    </tr>\n",
       "  </thead>\n",
       "  <tbody>\n",
       "    <tr>\n",
       "      <th>0</th>\n",
       "      <td>tt10356526</td>\n",
       "      <td>8.3</td>\n",
       "      <td>31</td>\n",
       "    </tr>\n",
       "    <tr>\n",
       "      <th>1</th>\n",
       "      <td>tt10384606</td>\n",
       "      <td>8.9</td>\n",
       "      <td>559</td>\n",
       "    </tr>\n",
       "    <tr>\n",
       "      <th>2</th>\n",
       "      <td>tt1042974</td>\n",
       "      <td>6.4</td>\n",
       "      <td>20</td>\n",
       "    </tr>\n",
       "    <tr>\n",
       "      <th>3</th>\n",
       "      <td>tt1043726</td>\n",
       "      <td>4.2</td>\n",
       "      <td>50352</td>\n",
       "    </tr>\n",
       "    <tr>\n",
       "      <th>4</th>\n",
       "      <td>tt1060240</td>\n",
       "      <td>6.5</td>\n",
       "      <td>21</td>\n",
       "    </tr>\n",
       "  </tbody>\n",
       "</table>\n",
       "</div>"
      ],
      "text/plain": [
       "     movie_id  averagerating  numvotes\n",
       "0  tt10356526            8.3        31\n",
       "1  tt10384606            8.9       559\n",
       "2   tt1042974            6.4        20\n",
       "3   tt1043726            4.2     50352\n",
       "4   tt1060240            6.5        21"
      ]
     },
     "execution_count": 67,
     "metadata": {},
     "output_type": "execute_result"
    }
   ],
   "source": [
    "# Begin your code here\n",
    "pd.read_sql(\"SELECT * FROM movie_basics LIMIT 5;\", conn4)\n",
    "pd.read_sql(\"SELECT * FROM movie_ratings LIMIT 5;\",conn4)"
   ]
  },
  {
   "cell_type": "code",
   "execution_count": 75,
   "metadata": {},
   "outputs": [
    {
     "data": {
      "text/html": [
       "<div>\n",
       "<style scoped>\n",
       "    .dataframe tbody tr th:only-of-type {\n",
       "        vertical-align: middle;\n",
       "    }\n",
       "\n",
       "    .dataframe tbody tr th {\n",
       "        vertical-align: top;\n",
       "    }\n",
       "\n",
       "    .dataframe thead th {\n",
       "        text-align: right;\n",
       "    }\n",
       "</style>\n",
       "<table border=\"1\" class=\"dataframe\">\n",
       "  <thead>\n",
       "    <tr style=\"text-align: right;\">\n",
       "      <th></th>\n",
       "      <th>cid</th>\n",
       "      <th>name</th>\n",
       "      <th>type</th>\n",
       "      <th>notnull</th>\n",
       "      <th>dflt_value</th>\n",
       "      <th>pk</th>\n",
       "    </tr>\n",
       "  </thead>\n",
       "  <tbody>\n",
       "    <tr>\n",
       "      <th>0</th>\n",
       "      <td>0</td>\n",
       "      <td>movie_id</td>\n",
       "      <td>TEXT</td>\n",
       "      <td>0</td>\n",
       "      <td>None</td>\n",
       "      <td>0</td>\n",
       "    </tr>\n",
       "    <tr>\n",
       "      <th>1</th>\n",
       "      <td>1</td>\n",
       "      <td>primary_title</td>\n",
       "      <td>TEXT</td>\n",
       "      <td>0</td>\n",
       "      <td>None</td>\n",
       "      <td>0</td>\n",
       "    </tr>\n",
       "    <tr>\n",
       "      <th>2</th>\n",
       "      <td>2</td>\n",
       "      <td>original_title</td>\n",
       "      <td>TEXT</td>\n",
       "      <td>0</td>\n",
       "      <td>None</td>\n",
       "      <td>0</td>\n",
       "    </tr>\n",
       "    <tr>\n",
       "      <th>3</th>\n",
       "      <td>3</td>\n",
       "      <td>start_year</td>\n",
       "      <td>INTEGER</td>\n",
       "      <td>0</td>\n",
       "      <td>None</td>\n",
       "      <td>0</td>\n",
       "    </tr>\n",
       "    <tr>\n",
       "      <th>4</th>\n",
       "      <td>4</td>\n",
       "      <td>runtime_minutes</td>\n",
       "      <td>REAL</td>\n",
       "      <td>0</td>\n",
       "      <td>None</td>\n",
       "      <td>0</td>\n",
       "    </tr>\n",
       "    <tr>\n",
       "      <th>5</th>\n",
       "      <td>5</td>\n",
       "      <td>genres</td>\n",
       "      <td>TEXT</td>\n",
       "      <td>0</td>\n",
       "      <td>None</td>\n",
       "      <td>0</td>\n",
       "    </tr>\n",
       "  </tbody>\n",
       "</table>\n",
       "</div>"
      ],
      "text/plain": [
       "   cid             name     type  notnull dflt_value  pk\n",
       "0    0         movie_id     TEXT        0       None   0\n",
       "1    1    primary_title     TEXT        0       None   0\n",
       "2    2   original_title     TEXT        0       None   0\n",
       "3    3       start_year  INTEGER        0       None   0\n",
       "4    4  runtime_minutes     REAL        0       None   0\n",
       "5    5           genres     TEXT        0       None   0"
      ]
     },
     "execution_count": 75,
     "metadata": {},
     "output_type": "execute_result"
    }
   ],
   "source": [
    "pd.read_sql(\"PRAGMA table_info(movie_basics);\", conn4)"
   ]
  },
  {
   "cell_type": "code",
   "execution_count": 74,
   "metadata": {},
   "outputs": [
    {
     "data": {
      "text/html": [
       "<div>\n",
       "<style scoped>\n",
       "    .dataframe tbody tr th:only-of-type {\n",
       "        vertical-align: middle;\n",
       "    }\n",
       "\n",
       "    .dataframe tbody tr th {\n",
       "        vertical-align: top;\n",
       "    }\n",
       "\n",
       "    .dataframe thead th {\n",
       "        text-align: right;\n",
       "    }\n",
       "</style>\n",
       "<table border=\"1\" class=\"dataframe\">\n",
       "  <thead>\n",
       "    <tr style=\"text-align: right;\">\n",
       "      <th></th>\n",
       "      <th>cid</th>\n",
       "      <th>name</th>\n",
       "      <th>type</th>\n",
       "      <th>notnull</th>\n",
       "      <th>dflt_value</th>\n",
       "      <th>pk</th>\n",
       "    </tr>\n",
       "  </thead>\n",
       "  <tbody>\n",
       "    <tr>\n",
       "      <th>0</th>\n",
       "      <td>0</td>\n",
       "      <td>movie_id</td>\n",
       "      <td>TEXT</td>\n",
       "      <td>0</td>\n",
       "      <td>None</td>\n",
       "      <td>0</td>\n",
       "    </tr>\n",
       "    <tr>\n",
       "      <th>1</th>\n",
       "      <td>1</td>\n",
       "      <td>averagerating</td>\n",
       "      <td>REAL</td>\n",
       "      <td>0</td>\n",
       "      <td>None</td>\n",
       "      <td>0</td>\n",
       "    </tr>\n",
       "    <tr>\n",
       "      <th>2</th>\n",
       "      <td>2</td>\n",
       "      <td>numvotes</td>\n",
       "      <td>INTEGER</td>\n",
       "      <td>0</td>\n",
       "      <td>None</td>\n",
       "      <td>0</td>\n",
       "    </tr>\n",
       "  </tbody>\n",
       "</table>\n",
       "</div>"
      ],
      "text/plain": [
       "   cid           name     type  notnull dflt_value  pk\n",
       "0    0       movie_id     TEXT        0       None   0\n",
       "1    1  averagerating     REAL        0       None   0\n",
       "2    2       numvotes  INTEGER        0       None   0"
      ]
     },
     "execution_count": 74,
     "metadata": {},
     "output_type": "execute_result"
    }
   ],
   "source": [
    "pd.read_sql(\"PRAGMA table_info(movie_ratings);\", conn4)"
   ]
  },
  {
   "cell_type": "code",
   "execution_count": 77,
   "metadata": {},
   "outputs": [
    {
     "name": "stdout",
     "output_type": "stream",
     "text": [
      "     movie_id                         primary_title  start_year  runtime_minutes                      genres  \\\n",
      "0   tt0063540                             Sunghursh        2013            175.0          Action,Crime,Drama   \n",
      "1   tt0066787       One Day Before the Rainy Season        2019            114.0             Biography,Drama   \n",
      "2   tt0069049            The Other Side of the Wind        2018            122.0                       Drama   \n",
      "3   tt0100275              The Wandering Soap Opera        2017             80.0        Comedy,Drama,Fantasy   \n",
      "4   tt0137204                       Joe Finds Grace        2017             83.0  Adventure,Animation,Comedy   \n",
      "5   tt0146592                           Pál Adrienn        2010            136.0                       Drama   \n",
      "6   tt0154039                  So Much for Justice!        2010            100.0                     History   \n",
      "7   tt0159369    Cooper and Hemingway: The True Gen        2013            180.0                 Documentary   \n",
      "8   tt0162942          Children of the Green Dragon        2010             89.0                       Drama   \n",
      "9   tt0170651                  T.G.M. - osvoboditel        2018             60.0                 Documentary   \n",
      "10  tt0176694                    The Tragedy of Man        2011            160.0     Animation,Drama,History   \n",
      "11  tt0192528                         Heaven & Hell        2018            104.0                       Drama   \n",
      "12  tt0230212                     The Final Journey        2010            120.0                       Drama   \n",
      "13  tt0247643      Los pájaros se van con la muerte        2011            110.0               Drama,Mystery   \n",
      "14  tt0249516                            Foodfight!        2012             91.0     Action,Animation,Comedy   \n",
      "15  tt0253093                          Gangavataran        2018            134.0                        None   \n",
      "16  tt0255820                     Return to Babylon        2013             75.0      Biography,Comedy,Drama   \n",
      "17  tt0262218                     Akakis mogzauroba        2012             44.0                 Documentary   \n",
      "18  tt0276568                    To Chase a Million        2018             97.0                Action,Drama   \n",
      "19  tt0277964  Prague: The Restless Heart of Europe        2018             59.0         Documentary,History   \n",
      "\n",
      "    averagerating  numvotes  \n",
      "0             7.0        77  \n",
      "1             7.2        43  \n",
      "2             6.9      4517  \n",
      "3             6.5       119  \n",
      "4             8.1       263  \n",
      "5             6.8       451  \n",
      "6             4.6        64  \n",
      "7             7.6        53  \n",
      "8             6.9       120  \n",
      "9             7.5         6  \n",
      "10            7.8       584  \n",
      "11            4.0        72  \n",
      "12            8.8         8  \n",
      "13            4.0        12  \n",
      "14            1.9      8248  \n",
      "15            6.6         8  \n",
      "16            5.9       123  \n",
      "17            7.8        22  \n",
      "18            7.4         5  \n",
      "19            7.0        31  \n"
     ]
    }
   ],
   "source": [
    "query = '''\n",
    "SELECT \n",
    "    mb.movie_id,\n",
    "    mb.primary_title,\n",
    "    mb.start_year,\n",
    "    mb.runtime_minutes,\n",
    "    mb.genres,\n",
    "    mr.averagerating,\n",
    "    mr.numvotes\n",
    "FROM movie_basics mb\n",
    "JOIN movie_ratings mr ON mb.movie_id = mr.movie_id\n",
    "WHERE mb.start_year Between 2010 and 2019\n",
    "    AND mb.runtime_minutes IS NOT NULL\n",
    "    AND mr.averagerating IS NOT NULL\n",
    "    AND mr.numvotes IS NOT NULL\n",
    "LIMIT 100;\n",
    "'''\n",
    "\n",
    "movie_data_sample = pd.read_sql(query, conn4)\n",
    "print(movie_data_sample.head(20))\n"
   ]
  },
  {
   "cell_type": "code",
   "execution_count": 83,
   "metadata": {},
   "outputs": [],
   "source": [
    "# split multi- genre rows into separate rows\n",
    "\n",
    "df_genres = movie_data_sample.assign(genres=movie_data_sample['genres'].str.split(',')).explode('genres')\n",
    "df_genres['genres'] = df_genres['genres'].str.strip()\n",
    "\n"
   ]
  },
  {
   "cell_type": "code",
   "execution_count": 85,
   "metadata": {},
   "outputs": [
    {
     "name": "stdout",
     "output_type": "stream",
     "text": [
      "             avg_rating  movie_count  avg_runtime\n",
      "genres                                           \n",
      "Documentary    7.812500            8    91.125000\n",
      "Adventure      6.888235           17   104.529412\n",
      "Family         6.700000            3   107.000000\n",
      "Biography      6.680000            5   112.600000\n",
      "Fantasy        6.620000            5   103.200000\n",
      "Drama          6.352941           51   112.764706\n",
      "History        6.300000            6   128.666667\n",
      "Animation      6.288889            9    93.333333\n",
      "Action         6.119048           21   116.904762\n",
      "Sci-Fi         6.077778            9    99.555556\n",
      "Comedy         6.077778           27    97.370370\n",
      "Romance        6.044444            9   106.444444\n",
      "Crime          5.881818           11   107.727273\n",
      "Thriller       5.650000            8   108.625000\n",
      "War            5.200000            2   157.500000\n",
      "Horror         5.185714            7    96.857143\n",
      "Mystery        4.975000            4   104.500000\n",
      "Music          4.700000            1    84.000000\n"
     ]
    }
   ],
   "source": [
    "# Group by genre ratings and count\n",
    "\n",
    "genre_stats = df_genres.groupby('genres').agg(\n",
    "    avg_rating=('averagerating', 'mean'),\n",
    "    movie_count=('genres', 'count'),\n",
    "    avg_runtime=('runtime_minutes', 'mean')\n",
    ").sort_values(by='avg_rating', ascending=False)\n",
    "\n",
    "print(genre_stats)"
   ]
  },
  {
   "cell_type": "code",
   "execution_count": 98,
   "metadata": {},
   "outputs": [
    {
     "data": {
      "image/png": "[encoded data removed]",
      "text/plain": [
       "<Figure size 800x400 with 1 Axes>"
      ]
     },
     "metadata": {},
     "output_type": "display_data"
    }
   ],
   "source": [
    "# Genre ratings plot and save\n",
    "ax1 = genre_stats.sort_values('avg_rating', ascending=True).plot(\n",
    "    y='avg_rating', kind='barh',\n",
    "    title='Average IMDB Rating by Genre (2010–2019)',\n",
    "    figsize=(8, 4), legend=False\n",
    ")\n",
    "plt.xlabel('Average Rating')\n",
    "plt.ylabel('Genre')\n",
    "plt.tight_layout()\n",
    "plt.savefig(\"genre_ratings_chart.png\", dpi=300, bbox_inches='tight')  \n",
    "plt.show() "
   ]
  },
  {
   "cell_type": "code",
   "execution_count": 88,
   "metadata": {},
   "outputs": [],
   "source": [
    "#Use the same movie_data_sample DataFrame\n",
    "df = movie_data_sample.copy()\n",
    "\n",
    "#Create runtime categories\n",
    "df['runtime_category'] = pd.cut(df['runtime_minutes'],\n",
    "                                bins=[0, 90, 120, 150, float('inf')],\n",
    "                                labels=['Short(<90)', 'Standard (90-120)', 'Long (120-150)', 'Epic(>150)'])\n"
   ]
  },
  {
   "cell_type": "code",
   "execution_count": 91,
   "metadata": {},
   "outputs": [
    {
     "name": "stdout",
     "output_type": "stream",
     "text": [
      "                   avg_rating  count\n",
      "runtime_category                    \n",
      "Short(<90)           6.580000     25\n",
      "Standard (90-120)    5.992593     54\n",
      "Long (120-150)       6.806250     16\n",
      "Epic(>150)           6.860000      5\n"
     ]
    }
   ],
   "source": [
    "# Get runtime stats\n",
    "runtime_stats = df.groupby('runtime_category', observed=True).agg(\n",
    "    avg_rating=('averagerating', 'mean'),\n",
    "    count=('runtime_category', 'count')\n",
    ")\n",
    "\n",
    "print(runtime_stats)"
   ]
  },
  {
   "cell_type": "code",
   "execution_count": 95,
   "metadata": {},
   "outputs": [
    {
     "data": {
      "image/png": "[encoded data removed]",
      "text/plain": [
       "<Figure size 800x400 with 1 Axes>"
      ]
     },
     "metadata": {},
     "output_type": "display_data"
    }
   ],
   "source": [
    "# Plot and save for Powerpoint \n",
    "ax2 = runtime_stats.plot(\n",
    "    y='avg_rating', kind='bar',\n",
    "    title='Average Rating by Runtime Category (2010–2019)',\n",
    "    figsize=(8, 4), legend=False\n",
    ")\n",
    "plt.xlabel('Runtime Category')\n",
    "plt.ylabel('Average Rating')\n",
    "plt.tight_layout()\n",
    "plt.savefig(\"runtime_ratings_chart.png\", dpi=300, bbox_inches='tight') \n",
    "plt.show()  "
   ]
  },
  {
   "cell_type": "code",
   "execution_count": 99,
   "metadata": {},
   "outputs": [],
   "source": [
    "conn.close()"
   ]
  },
  {
   "cell_type": "code",
   "execution_count": 100,
   "metadata": {},
   "outputs": [],
   "source": [
    "conn4.close()"
   ]
  },
  {
   "cell_type": "code",
   "execution_count": null,
   "metadata": {},
   "outputs": [],
   "source": []
  }
 ],
 "metadata": {
  "kernelspec": {
   "display_name": "Python 3 (ipykernel)",
   "language": "python",
   "name": "python3"
  },
  "language_info": {
   "codemirror_mode": {
    "name": "ipython",
    "version": 3
   },
   "file_extension": ".py",
   "mimetype": "text/x-python",
   "name": "python",
   "nbconvert_exporter": "python",
   "pygments_lexer": "ipython3",
   "version": "3.12.7"
  }
 },
 "nbformat": 4,
 "nbformat_minor": 4
}
